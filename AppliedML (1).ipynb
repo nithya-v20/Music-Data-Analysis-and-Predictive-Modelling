{
 "cells": [
  {
   "cell_type": "markdown",
   "id": "bac3ad1f",
   "metadata": {},
   "source": [
    "# Music Data Analysis and Predictive Modeling Project"
   ]
  },
  {
   "cell_type": "code",
   "execution_count": 1,
   "id": "b946d392",
   "metadata": {},
   "outputs": [],
   "source": [
    "import pandas as pd\n",
    "import numpy as np\n",
    "import seaborn as sns\n",
    "import matplotlib.pyplot as plt\n",
    "%matplotlib inline\n",
    "import warnings\n",
    "warnings.filterwarnings('ignore')"
   ]
  },
  {
   "cell_type": "code",
   "execution_count": 2,
   "id": "f73ec209",
   "metadata": {},
   "outputs": [],
   "source": [
    "df = pd.read_csv(\"Spotify_Youtube.csv\")"
   ]
  },
  {
   "cell_type": "markdown",
   "id": "b1efb8a3",
   "metadata": {},
   "source": [
    "## Data Cleaning"
   ]
  },
  {
   "cell_type": "code",
   "execution_count": 3,
   "id": "1b281dd6",
   "metadata": {},
   "outputs": [
    {
     "data": {
      "text/plain": [
       "Unnamed: 0            0\n",
       "Artist                0\n",
       "Url_spotify           0\n",
       "Track                 0\n",
       "Album                 0\n",
       "Album_type            0\n",
       "Uri                   0\n",
       "Danceability          2\n",
       "Energy                2\n",
       "Key                   2\n",
       "Loudness              2\n",
       "Speechiness           2\n",
       "Acousticness          2\n",
       "Instrumentalness      2\n",
       "Liveness              2\n",
       "Valence               2\n",
       "Tempo                 2\n",
       "Duration_ms           2\n",
       "Url_youtube         470\n",
       "Title               470\n",
       "Channel             470\n",
       "Views               470\n",
       "Likes               541\n",
       "Comments            569\n",
       "Description         876\n",
       "Licensed            470\n",
       "official_video      470\n",
       "Stream              576\n",
       "dtype: int64"
      ]
     },
     "execution_count": 3,
     "metadata": {},
     "output_type": "execute_result"
    }
   ],
   "source": [
    "df.isna().sum() #number of missing values in each column"
   ]
  },
  {
   "cell_type": "code",
   "execution_count": 4,
   "id": "e27dca3e",
   "metadata": {},
   "outputs": [],
   "source": [
    "df2 = df.dropna() #drop missing values"
   ]
  },
  {
   "cell_type": "code",
   "execution_count": 5,
   "id": "b52d6c42",
   "metadata": {
    "scrolled": true
   },
   "outputs": [
    {
     "data": {
      "text/plain": [
       "(19170, 28)"
      ]
     },
     "execution_count": 5,
     "metadata": {},
     "output_type": "execute_result"
    }
   ],
   "source": [
    "df2.shape # 19170 rows & 28 columns "
   ]
  },
  {
   "cell_type": "code",
   "execution_count": 6,
   "id": "a16b6ec2",
   "metadata": {},
   "outputs": [
    {
     "name": "stdout",
     "output_type": "stream",
     "text": [
      "<class 'pandas.core.frame.DataFrame'>\n",
      "Int64Index: 19170 entries, 0 to 20717\n",
      "Data columns (total 28 columns):\n",
      " #   Column            Non-Null Count  Dtype  \n",
      "---  ------            --------------  -----  \n",
      " 0   Unnamed: 0        19170 non-null  int64  \n",
      " 1   Artist            19170 non-null  object \n",
      " 2   Url_spotify       19170 non-null  object \n",
      " 3   Track             19170 non-null  object \n",
      " 4   Album             19170 non-null  object \n",
      " 5   Album_type        19170 non-null  object \n",
      " 6   Uri               19170 non-null  object \n",
      " 7   Danceability      19170 non-null  float64\n",
      " 8   Energy            19170 non-null  float64\n",
      " 9   Key               19170 non-null  float64\n",
      " 10  Loudness          19170 non-null  float64\n",
      " 11  Speechiness       19170 non-null  float64\n",
      " 12  Acousticness      19170 non-null  float64\n",
      " 13  Instrumentalness  19170 non-null  float64\n",
      " 14  Liveness          19170 non-null  float64\n",
      " 15  Valence           19170 non-null  float64\n",
      " 16  Tempo             19170 non-null  float64\n",
      " 17  Duration_ms       19170 non-null  float64\n",
      " 18  Url_youtube       19170 non-null  object \n",
      " 19  Title             19170 non-null  object \n",
      " 20  Channel           19170 non-null  object \n",
      " 21  Views             19170 non-null  float64\n",
      " 22  Likes             19170 non-null  float64\n",
      " 23  Comments          19170 non-null  float64\n",
      " 24  Description       19170 non-null  object \n",
      " 25  Licensed          19170 non-null  object \n",
      " 26  official_video    19170 non-null  object \n",
      " 27  Stream            19170 non-null  float64\n",
      "dtypes: float64(15), int64(1), object(12)\n",
      "memory usage: 4.2+ MB\n"
     ]
    }
   ],
   "source": [
    "df2.info() #no null values remaining - actually 27 columns (unnamed = index values)"
   ]
  },
  {
   "cell_type": "code",
   "execution_count": 7,
   "id": "c82c8d63",
   "metadata": {
    "scrolled": true
   },
   "outputs": [
    {
     "data": {
      "text/html": [
       "<div>\n",
       "<style scoped>\n",
       "    .dataframe tbody tr th:only-of-type {\n",
       "        vertical-align: middle;\n",
       "    }\n",
       "\n",
       "    .dataframe tbody tr th {\n",
       "        vertical-align: top;\n",
       "    }\n",
       "\n",
       "    .dataframe thead th {\n",
       "        text-align: right;\n",
       "    }\n",
       "</style>\n",
       "<table border=\"1\" class=\"dataframe\">\n",
       "  <thead>\n",
       "    <tr style=\"text-align: right;\">\n",
       "      <th></th>\n",
       "      <th>Unnamed: 0</th>\n",
       "      <th>Danceability</th>\n",
       "      <th>Energy</th>\n",
       "      <th>Key</th>\n",
       "      <th>Loudness</th>\n",
       "      <th>Speechiness</th>\n",
       "      <th>Acousticness</th>\n",
       "      <th>Instrumentalness</th>\n",
       "      <th>Liveness</th>\n",
       "      <th>Valence</th>\n",
       "      <th>Tempo</th>\n",
       "      <th>Duration_ms</th>\n",
       "      <th>Views</th>\n",
       "      <th>Likes</th>\n",
       "      <th>Comments</th>\n",
       "      <th>Stream</th>\n",
       "    </tr>\n",
       "  </thead>\n",
       "  <tbody>\n",
       "    <tr>\n",
       "      <th>count</th>\n",
       "      <td>19170.000000</td>\n",
       "      <td>19170.000000</td>\n",
       "      <td>19170.000000</td>\n",
       "      <td>19170.000000</td>\n",
       "      <td>19170.000000</td>\n",
       "      <td>19170.000000</td>\n",
       "      <td>19170.000000</td>\n",
       "      <td>19170.000000</td>\n",
       "      <td>19170.000000</td>\n",
       "      <td>19170.000000</td>\n",
       "      <td>19170.000000</td>\n",
       "      <td>1.917000e+04</td>\n",
       "      <td>1.917000e+04</td>\n",
       "      <td>1.917000e+04</td>\n",
       "      <td>1.917000e+04</td>\n",
       "      <td>1.917000e+04</td>\n",
       "    </tr>\n",
       "    <tr>\n",
       "      <th>mean</th>\n",
       "      <td>10434.934637</td>\n",
       "      <td>0.621178</td>\n",
       "      <td>0.636150</td>\n",
       "      <td>5.292645</td>\n",
       "      <td>-7.615305</td>\n",
       "      <td>0.094944</td>\n",
       "      <td>0.287817</td>\n",
       "      <td>0.055476</td>\n",
       "      <td>0.191322</td>\n",
       "      <td>0.528267</td>\n",
       "      <td>120.607345</td>\n",
       "      <td>2.247612e+05</td>\n",
       "      <td>9.719768e+07</td>\n",
       "      <td>6.823531e+05</td>\n",
       "      <td>2.838656e+04</td>\n",
       "      <td>1.382746e+08</td>\n",
       "    </tr>\n",
       "    <tr>\n",
       "      <th>std</th>\n",
       "      <td>5989.698716</td>\n",
       "      <td>0.165533</td>\n",
       "      <td>0.213439</td>\n",
       "      <td>3.579947</td>\n",
       "      <td>4.617605</td>\n",
       "      <td>0.104931</td>\n",
       "      <td>0.285630</td>\n",
       "      <td>0.192768</td>\n",
       "      <td>0.165217</td>\n",
       "      <td>0.244996</td>\n",
       "      <td>29.588308</td>\n",
       "      <td>1.278468e+05</td>\n",
       "      <td>2.799997e+08</td>\n",
       "      <td>1.820550e+06</td>\n",
       "      <td>1.977979e+05</td>\n",
       "      <td>2.477309e+08</td>\n",
       "    </tr>\n",
       "    <tr>\n",
       "      <th>min</th>\n",
       "      <td>0.000000</td>\n",
       "      <td>0.000000</td>\n",
       "      <td>0.000020</td>\n",
       "      <td>0.000000</td>\n",
       "      <td>-46.251000</td>\n",
       "      <td>0.000000</td>\n",
       "      <td>0.000001</td>\n",
       "      <td>0.000000</td>\n",
       "      <td>0.014500</td>\n",
       "      <td>0.000000</td>\n",
       "      <td>0.000000</td>\n",
       "      <td>3.098500e+04</td>\n",
       "      <td>2.600000e+01</td>\n",
       "      <td>0.000000e+00</td>\n",
       "      <td>0.000000e+00</td>\n",
       "      <td>6.574000e+03</td>\n",
       "    </tr>\n",
       "    <tr>\n",
       "      <th>25%</th>\n",
       "      <td>5240.500000</td>\n",
       "      <td>0.520000</td>\n",
       "      <td>0.510000</td>\n",
       "      <td>2.000000</td>\n",
       "      <td>-8.745000</td>\n",
       "      <td>0.035700</td>\n",
       "      <td>0.043600</td>\n",
       "      <td>0.000000</td>\n",
       "      <td>0.094100</td>\n",
       "      <td>0.338000</td>\n",
       "      <td>96.997500</td>\n",
       "      <td>1.802670e+05</td>\n",
       "      <td>2.070213e+06</td>\n",
       "      <td>2.447350e+04</td>\n",
       "      <td>5.830000e+02</td>\n",
       "      <td>1.786937e+07</td>\n",
       "    </tr>\n",
       "    <tr>\n",
       "      <th>50%</th>\n",
       "      <td>10500.500000</td>\n",
       "      <td>0.639000</td>\n",
       "      <td>0.667000</td>\n",
       "      <td>5.000000</td>\n",
       "      <td>-6.504000</td>\n",
       "      <td>0.050600</td>\n",
       "      <td>0.188000</td>\n",
       "      <td>0.000002</td>\n",
       "      <td>0.125000</td>\n",
       "      <td>0.535000</td>\n",
       "      <td>119.969000</td>\n",
       "      <td>2.133210e+05</td>\n",
       "      <td>1.568959e+07</td>\n",
       "      <td>1.332770e+05</td>\n",
       "      <td>3.515500e+03</td>\n",
       "      <td>5.037938e+07</td>\n",
       "    </tr>\n",
       "    <tr>\n",
       "      <th>75%</th>\n",
       "      <td>15640.750000</td>\n",
       "      <td>0.742000</td>\n",
       "      <td>0.798000</td>\n",
       "      <td>8.000000</td>\n",
       "      <td>-4.918500</td>\n",
       "      <td>0.104000</td>\n",
       "      <td>0.469000</td>\n",
       "      <td>0.000436</td>\n",
       "      <td>0.234000</td>\n",
       "      <td>0.724000</td>\n",
       "      <td>139.946000</td>\n",
       "      <td>2.519630e+05</td>\n",
       "      <td>7.369040e+07</td>\n",
       "      <td>5.423462e+05</td>\n",
       "      <td>1.494100e+04</td>\n",
       "      <td>1.407579e+08</td>\n",
       "    </tr>\n",
       "    <tr>\n",
       "      <th>max</th>\n",
       "      <td>20717.000000</td>\n",
       "      <td>0.975000</td>\n",
       "      <td>1.000000</td>\n",
       "      <td>11.000000</td>\n",
       "      <td>0.920000</td>\n",
       "      <td>0.964000</td>\n",
       "      <td>0.996000</td>\n",
       "      <td>1.000000</td>\n",
       "      <td>1.000000</td>\n",
       "      <td>0.993000</td>\n",
       "      <td>243.372000</td>\n",
       "      <td>4.676058e+06</td>\n",
       "      <td>8.079649e+09</td>\n",
       "      <td>5.078865e+07</td>\n",
       "      <td>1.608314e+07</td>\n",
       "      <td>3.386520e+09</td>\n",
       "    </tr>\n",
       "  </tbody>\n",
       "</table>\n",
       "</div>"
      ],
      "text/plain": [
       "         Unnamed: 0  Danceability        Energy           Key      Loudness  \\\n",
       "count  19170.000000  19170.000000  19170.000000  19170.000000  19170.000000   \n",
       "mean   10434.934637      0.621178      0.636150      5.292645     -7.615305   \n",
       "std     5989.698716      0.165533      0.213439      3.579947      4.617605   \n",
       "min        0.000000      0.000000      0.000020      0.000000    -46.251000   \n",
       "25%     5240.500000      0.520000      0.510000      2.000000     -8.745000   \n",
       "50%    10500.500000      0.639000      0.667000      5.000000     -6.504000   \n",
       "75%    15640.750000      0.742000      0.798000      8.000000     -4.918500   \n",
       "max    20717.000000      0.975000      1.000000     11.000000      0.920000   \n",
       "\n",
       "        Speechiness  Acousticness  Instrumentalness      Liveness  \\\n",
       "count  19170.000000  19170.000000      19170.000000  19170.000000   \n",
       "mean       0.094944      0.287817          0.055476      0.191322   \n",
       "std        0.104931      0.285630          0.192768      0.165217   \n",
       "min        0.000000      0.000001          0.000000      0.014500   \n",
       "25%        0.035700      0.043600          0.000000      0.094100   \n",
       "50%        0.050600      0.188000          0.000002      0.125000   \n",
       "75%        0.104000      0.469000          0.000436      0.234000   \n",
       "max        0.964000      0.996000          1.000000      1.000000   \n",
       "\n",
       "            Valence         Tempo   Duration_ms         Views         Likes  \\\n",
       "count  19170.000000  19170.000000  1.917000e+04  1.917000e+04  1.917000e+04   \n",
       "mean       0.528267    120.607345  2.247612e+05  9.719768e+07  6.823531e+05   \n",
       "std        0.244996     29.588308  1.278468e+05  2.799997e+08  1.820550e+06   \n",
       "min        0.000000      0.000000  3.098500e+04  2.600000e+01  0.000000e+00   \n",
       "25%        0.338000     96.997500  1.802670e+05  2.070213e+06  2.447350e+04   \n",
       "50%        0.535000    119.969000  2.133210e+05  1.568959e+07  1.332770e+05   \n",
       "75%        0.724000    139.946000  2.519630e+05  7.369040e+07  5.423462e+05   \n",
       "max        0.993000    243.372000  4.676058e+06  8.079649e+09  5.078865e+07   \n",
       "\n",
       "           Comments        Stream  \n",
       "count  1.917000e+04  1.917000e+04  \n",
       "mean   2.838656e+04  1.382746e+08  \n",
       "std    1.977979e+05  2.477309e+08  \n",
       "min    0.000000e+00  6.574000e+03  \n",
       "25%    5.830000e+02  1.786937e+07  \n",
       "50%    3.515500e+03  5.037938e+07  \n",
       "75%    1.494100e+04  1.407579e+08  \n",
       "max    1.608314e+07  3.386520e+09  "
      ]
     },
     "execution_count": 7,
     "metadata": {},
     "output_type": "execute_result"
    }
   ],
   "source": [
    "df2.describe() "
   ]
  },
  {
   "cell_type": "markdown",
   "id": "8a3e16da",
   "metadata": {},
   "source": [
    "## Exploratory Data Analysis"
   ]
  },
  {
   "cell_type": "code",
   "execution_count": 8,
   "id": "c491e7c0",
   "metadata": {
    "scrolled": true
   },
   "outputs": [
    {
     "data": {
      "text/plain": [
       "<AxesSubplot:xlabel='Stream'>"
      ]
     },
     "execution_count": 8,
     "metadata": {},
     "output_type": "execute_result"
    },
    {
     "data": {
      "image/png": "[encoded data removed]",
      "text/plain": [
       "<Figure size 432x288 with 1 Axes>"
      ]
     },
     "metadata": {
      "needs_background": "light"
     },
     "output_type": "display_data"
    }
   ],
   "source": [
    "sns.boxplot(df2['Stream']) #actual data of stream variable is right-skewed"
   ]
  },
  {
   "cell_type": "code",
   "execution_count": 9,
   "id": "417baa2b",
   "metadata": {},
   "outputs": [
    {
     "data": {
      "text/plain": [
       "<AxesSubplot:xlabel='log_Stream'>"
      ]
     },
     "execution_count": 9,
     "metadata": {},
     "output_type": "execute_result"
    },
    {
     "data": {
      "image/png": "[encoded data removed]",
      "text/plain": [
       "<Figure size 432x288 with 1 Axes>"
      ]
     },
     "metadata": {
      "needs_background": "light"
     },
     "output_type": "display_data"
    }
   ],
   "source": [
    " #log transformation of Stream variable\n",
    "df2[\"log_Stream\"] = np.log(df2[\"Stream\"])\n",
    "sns.boxplot(df2[\"log_Stream\"])"
   ]
  },
  {
   "cell_type": "code",
   "execution_count": 10,
   "id": "1ac35d9b",
   "metadata": {},
   "outputs": [
    {
     "data": {
      "text/plain": [
       "(299, 29)"
      ]
     },
     "execution_count": 10,
     "metadata": {},
     "output_type": "execute_result"
    }
   ],
   "source": [
    "# Outliers Detection\n",
    "q1, q3 = np.percentile(df2['log_Stream'], [25, 75])\n",
    "iqr = q3 - q1\n",
    "ul = q3 + 1.5*iqr\n",
    "ll = q1 - 1.5*iqr\n",
    "outliers = df2[(df2['log_Stream'] < ll) | (df2['log_Stream'] > ul)]\n",
    "outliers.shape #299 outliers in total < 2% of data"
   ]
  },
  {
   "cell_type": "code",
   "execution_count": 11,
   "id": "7aa369f4",
   "metadata": {},
   "outputs": [
    {
     "data": {
      "text/plain": [
       "(18871, 29)"
      ]
     },
     "execution_count": 11,
     "metadata": {},
     "output_type": "execute_result"
    }
   ],
   "source": [
    "cond = df2['Unnamed: 0'].isin(outliers['Unnamed: 0'])\n",
    "df2.drop(df2[cond].index, inplace = True)\n",
    "df2.shape #after removing outliers 18,871 rows"
   ]
  },
  {
   "cell_type": "code",
   "execution_count": 12,
   "id": "43d00fa6",
   "metadata": {},
   "outputs": [],
   "source": [
    "# Top 20 artists grouped by streams/views\n",
    "Top20_Spotify = pd.DataFrame(df2.groupby(['Artist'])['Stream'].sum().sort_values(ascending = False)).head(20)\n",
    "Top20_YT = pd.DataFrame(df2.groupby(['Artist'])['Views'].sum().sort_values(ascending = False)).head(20)"
   ]
  },
  {
   "cell_type": "code",
   "execution_count": 13,
   "id": "cae9de9e",
   "metadata": {},
   "outputs": [],
   "source": [
    "#Add index column for top 20\n",
    "Top20_Spotify = Top20_Spotify.reset_index()\n",
    "Top20_YT = Top20_YT.reset_index()"
   ]
  },
  {
   "cell_type": "code",
   "execution_count": 14,
   "id": "447208bd",
   "metadata": {},
   "outputs": [
    {
     "data": {
      "text/plain": [
       "Text(0.5, 1.0, 'Top 20 Artists on Spotify')"
      ]
     },
     "execution_count": 14,
     "metadata": {},
     "output_type": "execute_result"
    },
    {
     "data": {
      "image/png": "[encoded data removed]",
      "text/plain": [
       "<Figure size 1440x720 with 1 Axes>"
      ]
     },
     "metadata": {
      "needs_background": "light"
     },
     "output_type": "display_data"
    }
   ],
   "source": [
    "#Vertical bar graph of top Spotify artists\n",
    "plt.figure(figsize = [20,10])\n",
    "sns.barplot(x = Top20_Spotify['Artist'] , y = Top20_Spotify['Stream'])\n",
    "plt.xticks(rotation = 90)\n",
    "plt.title(\"Top 20 Artists on Spotify\")"
   ]
  },
  {
   "cell_type": "code",
   "execution_count": 15,
   "id": "ca7fe8f1",
   "metadata": {},
   "outputs": [],
   "source": [
    "#Streams = Loudness, Danceability, Key, Speechness, Instrumentalness, Liveliness, Valence, Tempo, Duration_MS, Likes, Licensed,\n",
    "#          Artist, Stream, Album Type, Views, Comments, Acousticness, Energy"
   ]
  },
  {
   "cell_type": "code",
   "execution_count": 16,
   "id": "19768cec",
   "metadata": {},
   "outputs": [],
   "source": [
    "model_data = df2[['Loudness' , 'Danceability', 'Key','Speechiness' ,'Instrumentalness' , 'Liveness',\n",
    "                 'Valence', 'Tempo' , 'Duration_ms', 'Likes', 'Licensed', 'log_Stream',\n",
    "                 'Album_type', 'Views' , 'Comments', 'Acousticness', 'Energy']]"
   ]
  },
  {
   "cell_type": "code",
   "execution_count": 17,
   "id": "8c811bc3",
   "metadata": {},
   "outputs": [
    {
     "data": {
      "text/html": [
       "<div>\n",
       "<style scoped>\n",
       "    .dataframe tbody tr th:only-of-type {\n",
       "        vertical-align: middle;\n",
       "    }\n",
       "\n",
       "    .dataframe tbody tr th {\n",
       "        vertical-align: top;\n",
       "    }\n",
       "\n",
       "    .dataframe thead th {\n",
       "        text-align: right;\n",
       "    }\n",
       "</style>\n",
       "<table border=\"1\" class=\"dataframe\">\n",
       "  <thead>\n",
       "    <tr style=\"text-align: right;\">\n",
       "      <th></th>\n",
       "      <th>feature</th>\n",
       "      <th>VIF</th>\n",
       "    </tr>\n",
       "  </thead>\n",
       "  <tbody>\n",
       "    <tr>\n",
       "      <th>0</th>\n",
       "      <td>Loudness</td>\n",
       "      <td>7.336951</td>\n",
       "    </tr>\n",
       "    <tr>\n",
       "      <th>1</th>\n",
       "      <td>Danceability</td>\n",
       "      <td>16.578484</td>\n",
       "    </tr>\n",
       "    <tr>\n",
       "      <th>2</th>\n",
       "      <td>Key</td>\n",
       "      <td>3.152742</td>\n",
       "    </tr>\n",
       "    <tr>\n",
       "      <th>3</th>\n",
       "      <td>Speechiness</td>\n",
       "      <td>2.133395</td>\n",
       "    </tr>\n",
       "    <tr>\n",
       "      <th>4</th>\n",
       "      <td>Instrumentalness</td>\n",
       "      <td>1.691045</td>\n",
       "    </tr>\n",
       "    <tr>\n",
       "      <th>5</th>\n",
       "      <td>Liveness</td>\n",
       "      <td>2.474909</td>\n",
       "    </tr>\n",
       "    <tr>\n",
       "      <th>6</th>\n",
       "      <td>Valence</td>\n",
       "      <td>8.342606</td>\n",
       "    </tr>\n",
       "    <tr>\n",
       "      <th>7</th>\n",
       "      <td>Tempo</td>\n",
       "      <td>14.964459</td>\n",
       "    </tr>\n",
       "    <tr>\n",
       "      <th>8</th>\n",
       "      <td>Duration_ms</td>\n",
       "      <td>3.950475</td>\n",
       "    </tr>\n",
       "    <tr>\n",
       "      <th>9</th>\n",
       "      <td>Likes</td>\n",
       "      <td>8.833829</td>\n",
       "    </tr>\n",
       "    <tr>\n",
       "      <th>10</th>\n",
       "      <td>Views</td>\n",
       "      <td>6.368549</td>\n",
       "    </tr>\n",
       "    <tr>\n",
       "      <th>11</th>\n",
       "      <td>Comments</td>\n",
       "      <td>1.987581</td>\n",
       "    </tr>\n",
       "    <tr>\n",
       "      <th>12</th>\n",
       "      <td>Acousticness</td>\n",
       "      <td>3.187460</td>\n",
       "    </tr>\n",
       "    <tr>\n",
       "      <th>13</th>\n",
       "      <td>Energy</td>\n",
       "      <td>17.744014</td>\n",
       "    </tr>\n",
       "  </tbody>\n",
       "</table>\n",
       "</div>"
      ],
      "text/plain": [
       "             feature        VIF\n",
       "0           Loudness   7.336951\n",
       "1       Danceability  16.578484\n",
       "2                Key   3.152742\n",
       "3        Speechiness   2.133395\n",
       "4   Instrumentalness   1.691045\n",
       "5           Liveness   2.474909\n",
       "6            Valence   8.342606\n",
       "7              Tempo  14.964459\n",
       "8        Duration_ms   3.950475\n",
       "9              Likes   8.833829\n",
       "10             Views   6.368549\n",
       "11          Comments   1.987581\n",
       "12      Acousticness   3.187460\n",
       "13            Energy  17.744014"
      ]
     },
     "execution_count": 17,
     "metadata": {},
     "output_type": "execute_result"
    }
   ],
   "source": [
    "import statsmodels.api as sm\n",
    "from statsmodels.stats.outliers_influence import variance_inflation_factor\n",
    "vif_table = model_data.drop(columns = ['Licensed' , 'log_Stream', 'Album_type'])\n",
    "# VIF dataframe\n",
    "vif_data = pd.DataFrame()\n",
    "vif_data[\"feature\"] = vif_table.columns\n",
    "  \n",
    "# calculating VIF for each feature\n",
    "vif_data[\"VIF\"] = [variance_inflation_factor(vif_table.values, i)\n",
    "                          for i in range(len(vif_table.columns))]\n",
    "vif_data"
   ]
  },
  {
   "cell_type": "code",
   "execution_count": 18,
   "id": "bc0cb3e8",
   "metadata": {},
   "outputs": [],
   "source": [
    "#Drop columns with high multicollinearity\n",
    "data = model_data.drop(columns = ['Energy','Danceability'])"
   ]
  },
  {
   "cell_type": "code",
   "execution_count": 19,
   "id": "2c771913",
   "metadata": {},
   "outputs": [
    {
     "data": {
      "text/html": [
       "<div>\n",
       "<style scoped>\n",
       "    .dataframe tbody tr th:only-of-type {\n",
       "        vertical-align: middle;\n",
       "    }\n",
       "\n",
       "    .dataframe tbody tr th {\n",
       "        vertical-align: top;\n",
       "    }\n",
       "\n",
       "    .dataframe thead th {\n",
       "        text-align: right;\n",
       "    }\n",
       "</style>\n",
       "<table border=\"1\" class=\"dataframe\">\n",
       "  <thead>\n",
       "    <tr style=\"text-align: right;\">\n",
       "      <th></th>\n",
       "      <th>feature</th>\n",
       "      <th>VIF</th>\n",
       "    </tr>\n",
       "  </thead>\n",
       "  <tbody>\n",
       "    <tr>\n",
       "      <th>0</th>\n",
       "      <td>Loudness</td>\n",
       "      <td>6.468906</td>\n",
       "    </tr>\n",
       "    <tr>\n",
       "      <th>1</th>\n",
       "      <td>Key</td>\n",
       "      <td>3.033970</td>\n",
       "    </tr>\n",
       "    <tr>\n",
       "      <th>2</th>\n",
       "      <td>Speechiness</td>\n",
       "      <td>1.984689</td>\n",
       "    </tr>\n",
       "    <tr>\n",
       "      <th>3</th>\n",
       "      <td>Instrumentalness</td>\n",
       "      <td>1.614067</td>\n",
       "    </tr>\n",
       "    <tr>\n",
       "      <th>4</th>\n",
       "      <td>Liveness</td>\n",
       "      <td>2.261603</td>\n",
       "    </tr>\n",
       "    <tr>\n",
       "      <th>5</th>\n",
       "      <td>Valence</td>\n",
       "      <td>5.316499</td>\n",
       "    </tr>\n",
       "    <tr>\n",
       "      <th>6</th>\n",
       "      <td>Tempo</td>\n",
       "      <td>9.832408</td>\n",
       "    </tr>\n",
       "    <tr>\n",
       "      <th>7</th>\n",
       "      <td>Duration_ms</td>\n",
       "      <td>3.666180</td>\n",
       "    </tr>\n",
       "    <tr>\n",
       "      <th>8</th>\n",
       "      <td>Likes</td>\n",
       "      <td>8.748916</td>\n",
       "    </tr>\n",
       "    <tr>\n",
       "      <th>9</th>\n",
       "      <td>Views</td>\n",
       "      <td>6.356726</td>\n",
       "    </tr>\n",
       "    <tr>\n",
       "      <th>10</th>\n",
       "      <td>Comments</td>\n",
       "      <td>1.980150</td>\n",
       "    </tr>\n",
       "    <tr>\n",
       "      <th>11</th>\n",
       "      <td>Acousticness</td>\n",
       "      <td>2.921054</td>\n",
       "    </tr>\n",
       "  </tbody>\n",
       "</table>\n",
       "</div>"
      ],
      "text/plain": [
       "             feature       VIF\n",
       "0           Loudness  6.468906\n",
       "1                Key  3.033970\n",
       "2        Speechiness  1.984689\n",
       "3   Instrumentalness  1.614067\n",
       "4           Liveness  2.261603\n",
       "5            Valence  5.316499\n",
       "6              Tempo  9.832408\n",
       "7        Duration_ms  3.666180\n",
       "8              Likes  8.748916\n",
       "9              Views  6.356726\n",
       "10          Comments  1.980150\n",
       "11      Acousticness  2.921054"
      ]
     },
     "execution_count": 19,
     "metadata": {},
     "output_type": "execute_result"
    }
   ],
   "source": [
    "#New VIF table with variables removed\n",
    "vif_table = model_data.drop(columns = ['Licensed' , 'log_Stream', 'Album_type', 'Energy', 'Danceability'])\n",
    "# VIF dataframe\n",
    "vif_data = pd.DataFrame()\n",
    "vif_data[\"feature\"] = vif_table.columns\n",
    "  \n",
    "# calculating VIF for each feature\n",
    "vif_data[\"VIF\"] = [variance_inflation_factor(vif_table.values, i)\n",
    "                          for i in range(len(vif_table.columns))]\n",
    "vif_data"
   ]
  },
  {
   "cell_type": "markdown",
   "id": "73756159",
   "metadata": {},
   "source": [
    "## Model Building"
   ]
  },
  {
   "cell_type": "code",
   "execution_count": 20,
   "id": "167f200a",
   "metadata": {
    "scrolled": true
   },
   "outputs": [
    {
     "data": {
      "text/plain": [
       "array(['album', 'single', 'compilation'], dtype=object)"
      ]
     },
     "execution_count": 20,
     "metadata": {},
     "output_type": "execute_result"
    }
   ],
   "source": [
    "df2['Album_type'].unique() #types of albums"
   ]
  },
  {
   "cell_type": "code",
   "execution_count": 21,
   "id": "568a5a31",
   "metadata": {},
   "outputs": [],
   "source": [
    "#creating dummies for categorical variable\n",
    "reg_data = data.copy()\n",
    "reg_data['Single'] = np.where(reg_data['Album_type'] == 'single' , 1, 0)\n",
    "reg_data['Compilation'] = np.where(reg_data['Album_type'] == 'compilation' , 1, 0)\n",
    "reg_data['Licensed'] = reg_data['Licensed'].astype(\"int32\")"
   ]
  },
  {
   "cell_type": "code",
   "execution_count": 22,
   "id": "f54aaf9c",
   "metadata": {},
   "outputs": [
    {
     "data": {
      "text/html": [
       "<div>\n",
       "<style scoped>\n",
       "    .dataframe tbody tr th:only-of-type {\n",
       "        vertical-align: middle;\n",
       "    }\n",
       "\n",
       "    .dataframe tbody tr th {\n",
       "        vertical-align: top;\n",
       "    }\n",
       "\n",
       "    .dataframe thead th {\n",
       "        text-align: right;\n",
       "    }\n",
       "</style>\n",
       "<table border=\"1\" class=\"dataframe\">\n",
       "  <thead>\n",
       "    <tr style=\"text-align: right;\">\n",
       "      <th></th>\n",
       "      <th>Loudness</th>\n",
       "      <th>Key</th>\n",
       "      <th>Speechiness</th>\n",
       "      <th>Instrumentalness</th>\n",
       "      <th>Liveness</th>\n",
       "      <th>Valence</th>\n",
       "      <th>Tempo</th>\n",
       "      <th>Duration_ms</th>\n",
       "      <th>Likes</th>\n",
       "      <th>Licensed</th>\n",
       "      <th>log_Stream</th>\n",
       "      <th>Views</th>\n",
       "      <th>Comments</th>\n",
       "      <th>Acousticness</th>\n",
       "      <th>Single</th>\n",
       "      <th>Compilation</th>\n",
       "    </tr>\n",
       "  </thead>\n",
       "  <tbody>\n",
       "    <tr>\n",
       "      <th>count</th>\n",
       "      <td>18871.000000</td>\n",
       "      <td>18871.000000</td>\n",
       "      <td>18871.000000</td>\n",
       "      <td>18871.000000</td>\n",
       "      <td>18871.000000</td>\n",
       "      <td>18871.000000</td>\n",
       "      <td>18871.000000</td>\n",
       "      <td>1.887100e+04</td>\n",
       "      <td>1.887100e+04</td>\n",
       "      <td>18871.000000</td>\n",
       "      <td>18871.000000</td>\n",
       "      <td>1.887100e+04</td>\n",
       "      <td>1.887100e+04</td>\n",
       "      <td>18871.000000</td>\n",
       "      <td>18871.000000</td>\n",
       "      <td>18871.000000</td>\n",
       "    </tr>\n",
       "    <tr>\n",
       "      <th>mean</th>\n",
       "      <td>-7.592294</td>\n",
       "      <td>5.296805</td>\n",
       "      <td>0.092228</td>\n",
       "      <td>0.055299</td>\n",
       "      <td>0.190724</td>\n",
       "      <td>0.527893</td>\n",
       "      <td>120.664460</td>\n",
       "      <td>2.251263e+05</td>\n",
       "      <td>6.899184e+05</td>\n",
       "      <td>0.716284</td>\n",
       "      <td>17.737998</td>\n",
       "      <td>9.827577e+07</td>\n",
       "      <td>2.872200e+04</td>\n",
       "      <td>0.287679</td>\n",
       "      <td>0.239309</td>\n",
       "      <td>0.035716</td>\n",
       "    </tr>\n",
       "    <tr>\n",
       "      <th>std</th>\n",
       "      <td>4.598882</td>\n",
       "      <td>3.578661</td>\n",
       "      <td>0.094483</td>\n",
       "      <td>0.192591</td>\n",
       "      <td>0.164558</td>\n",
       "      <td>0.245175</td>\n",
       "      <td>29.558019</td>\n",
       "      <td>1.285820e+05</td>\n",
       "      <td>1.817146e+06</td>\n",
       "      <td>0.450812</td>\n",
       "      <td>1.508780</td>\n",
       "      <td>2.786136e+08</td>\n",
       "      <td>1.991442e+05</td>\n",
       "      <td>0.285578</td>\n",
       "      <td>0.426673</td>\n",
       "      <td>0.185587</td>\n",
       "    </tr>\n",
       "    <tr>\n",
       "      <th>min</th>\n",
       "      <td>-46.251000</td>\n",
       "      <td>0.000000</td>\n",
       "      <td>0.000000</td>\n",
       "      <td>0.000000</td>\n",
       "      <td>0.014500</td>\n",
       "      <td>0.000000</td>\n",
       "      <td>0.000000</td>\n",
       "      <td>3.098500e+04</td>\n",
       "      <td>0.000000e+00</td>\n",
       "      <td>0.000000</td>\n",
       "      <td>13.603403</td>\n",
       "      <td>2.600000e+01</td>\n",
       "      <td>0.000000e+00</td>\n",
       "      <td>0.000001</td>\n",
       "      <td>0.000000</td>\n",
       "      <td>0.000000</td>\n",
       "    </tr>\n",
       "    <tr>\n",
       "      <th>25%</th>\n",
       "      <td>-8.707000</td>\n",
       "      <td>2.000000</td>\n",
       "      <td>0.035600</td>\n",
       "      <td>0.000000</td>\n",
       "      <td>0.094100</td>\n",
       "      <td>0.337500</td>\n",
       "      <td>97.011000</td>\n",
       "      <td>1.804350e+05</td>\n",
       "      <td>2.732650e+04</td>\n",
       "      <td>0.000000</td>\n",
       "      <td>16.753855</td>\n",
       "      <td>2.307146e+06</td>\n",
       "      <td>6.400000e+02</td>\n",
       "      <td>0.043600</td>\n",
       "      <td>0.000000</td>\n",
       "      <td>0.000000</td>\n",
       "    </tr>\n",
       "    <tr>\n",
       "      <th>50%</th>\n",
       "      <td>-6.490000</td>\n",
       "      <td>5.000000</td>\n",
       "      <td>0.050400</td>\n",
       "      <td>0.000002</td>\n",
       "      <td>0.125000</td>\n",
       "      <td>0.534000</td>\n",
       "      <td>119.972000</td>\n",
       "      <td>2.135940e+05</td>\n",
       "      <td>1.392880e+05</td>\n",
       "      <td>1.000000</td>\n",
       "      <td>17.767609</td>\n",
       "      <td>1.638388e+07</td>\n",
       "      <td>3.674000e+03</td>\n",
       "      <td>0.188000</td>\n",
       "      <td>0.000000</td>\n",
       "      <td>0.000000</td>\n",
       "    </tr>\n",
       "    <tr>\n",
       "      <th>75%</th>\n",
       "      <td>-4.913000</td>\n",
       "      <td>8.000000</td>\n",
       "      <td>0.103000</td>\n",
       "      <td>0.000432</td>\n",
       "      <td>0.233000</td>\n",
       "      <td>0.724000</td>\n",
       "      <td>139.953000</td>\n",
       "      <td>2.522290e+05</td>\n",
       "      <td>5.562725e+05</td>\n",
       "      <td>1.000000</td>\n",
       "      <td>18.779292</td>\n",
       "      <td>7.483926e+07</td>\n",
       "      <td>1.519750e+04</td>\n",
       "      <td>0.469000</td>\n",
       "      <td>0.000000</td>\n",
       "      <td>0.000000</td>\n",
       "    </tr>\n",
       "    <tr>\n",
       "      <th>max</th>\n",
       "      <td>0.920000</td>\n",
       "      <td>11.000000</td>\n",
       "      <td>0.935000</td>\n",
       "      <td>1.000000</td>\n",
       "      <td>1.000000</td>\n",
       "      <td>0.993000</td>\n",
       "      <td>243.372000</td>\n",
       "      <td>4.676058e+06</td>\n",
       "      <td>5.078865e+07</td>\n",
       "      <td>1.000000</td>\n",
       "      <td>21.691775</td>\n",
       "      <td>8.079649e+09</td>\n",
       "      <td>1.608314e+07</td>\n",
       "      <td>0.996000</td>\n",
       "      <td>1.000000</td>\n",
       "      <td>1.000000</td>\n",
       "    </tr>\n",
       "  </tbody>\n",
       "</table>\n",
       "</div>"
      ],
      "text/plain": [
       "           Loudness           Key   Speechiness  Instrumentalness  \\\n",
       "count  18871.000000  18871.000000  18871.000000      18871.000000   \n",
       "mean      -7.592294      5.296805      0.092228          0.055299   \n",
       "std        4.598882      3.578661      0.094483          0.192591   \n",
       "min      -46.251000      0.000000      0.000000          0.000000   \n",
       "25%       -8.707000      2.000000      0.035600          0.000000   \n",
       "50%       -6.490000      5.000000      0.050400          0.000002   \n",
       "75%       -4.913000      8.000000      0.103000          0.000432   \n",
       "max        0.920000     11.000000      0.935000          1.000000   \n",
       "\n",
       "           Liveness       Valence         Tempo   Duration_ms         Likes  \\\n",
       "count  18871.000000  18871.000000  18871.000000  1.887100e+04  1.887100e+04   \n",
       "mean       0.190724      0.527893    120.664460  2.251263e+05  6.899184e+05   \n",
       "std        0.164558      0.245175     29.558019  1.285820e+05  1.817146e+06   \n",
       "min        0.014500      0.000000      0.000000  3.098500e+04  0.000000e+00   \n",
       "25%        0.094100      0.337500     97.011000  1.804350e+05  2.732650e+04   \n",
       "50%        0.125000      0.534000    119.972000  2.135940e+05  1.392880e+05   \n",
       "75%        0.233000      0.724000    139.953000  2.522290e+05  5.562725e+05   \n",
       "max        1.000000      0.993000    243.372000  4.676058e+06  5.078865e+07   \n",
       "\n",
       "           Licensed    log_Stream         Views      Comments  Acousticness  \\\n",
       "count  18871.000000  18871.000000  1.887100e+04  1.887100e+04  18871.000000   \n",
       "mean       0.716284     17.737998  9.827577e+07  2.872200e+04      0.287679   \n",
       "std        0.450812      1.508780  2.786136e+08  1.991442e+05      0.285578   \n",
       "min        0.000000     13.603403  2.600000e+01  0.000000e+00      0.000001   \n",
       "25%        0.000000     16.753855  2.307146e+06  6.400000e+02      0.043600   \n",
       "50%        1.000000     17.767609  1.638388e+07  3.674000e+03      0.188000   \n",
       "75%        1.000000     18.779292  7.483926e+07  1.519750e+04      0.469000   \n",
       "max        1.000000     21.691775  8.079649e+09  1.608314e+07      0.996000   \n",
       "\n",
       "             Single   Compilation  \n",
       "count  18871.000000  18871.000000  \n",
       "mean       0.239309      0.035716  \n",
       "std        0.426673      0.185587  \n",
       "min        0.000000      0.000000  \n",
       "25%        0.000000      0.000000  \n",
       "50%        0.000000      0.000000  \n",
       "75%        0.000000      0.000000  \n",
       "max        1.000000      1.000000  "
      ]
     },
     "execution_count": 22,
     "metadata": {},
     "output_type": "execute_result"
    }
   ],
   "source": [
    "reg_data.describe() #check for log_Stream"
   ]
  },
  {
   "cell_type": "code",
   "execution_count": 23,
   "id": "68d941ee",
   "metadata": {},
   "outputs": [],
   "source": [
    "# Drop categorical & dependent variables before assigning X & y\n",
    "X = reg_data.drop(columns = [\"log_Stream\", 'Album_type'])\n",
    "y = reg_data['log_Stream']"
   ]
  },
  {
   "cell_type": "code",
   "execution_count": 24,
   "id": "f4444c5a",
   "metadata": {},
   "outputs": [],
   "source": [
    "# Data scaling to Normal Distribution\n",
    "from sklearn.preprocessing import StandardScaler\n",
    "scaler = StandardScaler()\n",
    "X_trans = scaler.fit_transform(X)\n",
    "X_scaled = pd.DataFrame(X_trans, columns = X.columns)"
   ]
  },
  {
   "cell_type": "code",
   "execution_count": 25,
   "id": "fea89a46",
   "metadata": {},
   "outputs": [],
   "source": [
    "#Split data & train 70/30\n",
    "from sklearn.model_selection import train_test_split\n",
    "X_train, X_test, y_train, y_test = train_test_split(X_scaled, y, test_size=0.3, random_state=0)"
   ]
  },
  {
   "cell_type": "code",
   "execution_count": 26,
   "id": "5a192514",
   "metadata": {},
   "outputs": [
    {
     "data": {
      "text/plain": [
       "(13209, 5662)"
      ]
     },
     "execution_count": 26,
     "metadata": {},
     "output_type": "execute_result"
    }
   ],
   "source": [
    "X_train.shape[0], X_test.shape[0] #13209 rows in training, 5662 rows in testing"
   ]
  },
  {
   "cell_type": "code",
   "execution_count": 27,
   "id": "284b7058",
   "metadata": {
    "scrolled": true
   },
   "outputs": [
    {
     "name": "stdout",
     "output_type": "stream",
     "text": [
      "                            OLS Regression Results                            \n",
      "==============================================================================\n",
      "Dep. Variable:             log_Stream   R-squared:                       0.261\n",
      "Model:                            OLS   Adj. R-squared:                  0.260\n",
      "Method:                 Least Squares   F-statistic:                     310.9\n",
      "Date:                Thu, 27 Apr 2023   Prob (F-statistic):               0.00\n",
      "Time:                        10:54:08   Log-Likelihood:                -22090.\n",
      "No. Observations:               13209   AIC:                         4.421e+04\n",
      "Df Residuals:                   13193   BIC:                         4.433e+04\n",
      "Df Model:                          15                                         \n",
      "Covariance Type:            nonrobust                                         \n",
      "====================================================================================\n",
      "                       coef    std err          t      P>|t|      [0.025      0.975]\n",
      "------------------------------------------------------------------------------------\n",
      "const               17.7365      0.011   1580.697      0.000      17.715      17.758\n",
      "Loudness             0.1276      0.016      8.022      0.000       0.096       0.159\n",
      "Key                 -0.0036      0.011     -0.325      0.745      -0.026       0.018\n",
      "Speechiness         -0.0497      0.011     -4.359      0.000      -0.072      -0.027\n",
      "Instrumentalness    -0.0960      0.014     -7.064      0.000      -0.123      -0.069\n",
      "Liveness            -0.0710      0.011     -6.384      0.000      -0.093      -0.049\n",
      "Valence             -0.0746      0.012     -6.214      0.000      -0.098      -0.051\n",
      "Tempo                0.0159      0.011      1.388      0.165      -0.007       0.038\n",
      "Duration_ms         -0.0194      0.010     -1.880      0.060      -0.040       0.001\n",
      "Likes                0.9615      0.033     29.101      0.000       0.897       1.026\n",
      "Licensed             0.0327      0.011      2.856      0.004       0.010       0.055\n",
      "Views               -0.1302      0.027     -4.808      0.000      -0.183      -0.077\n",
      "Comments            -0.4177      0.024    -17.766      0.000      -0.464      -0.372\n",
      "Acousticness        -0.0799      0.014     -5.908      0.000      -0.106      -0.053\n",
      "Single              -0.2931      0.012    -25.434      0.000      -0.316      -0.271\n",
      "Compilation         -0.0366      0.011     -3.232      0.001      -0.059      -0.014\n",
      "==============================================================================\n",
      "Omnibus:                      769.662   Durbin-Watson:                   1.990\n",
      "Prob(Omnibus):                  0.000   Jarque-Bera (JB):             1159.923\n",
      "Skew:                          -0.501   Prob(JB):                    1.34e-252\n",
      "Kurtosis:                       4.051   Cond. No.                         6.13\n",
      "==============================================================================\n",
      "\n",
      "Notes:\n",
      "[1] Standard Errors assume that the covariance matrix of the errors is correctly specified.\n"
     ]
    }
   ],
   "source": [
    "#Linear Regression\n",
    "import statsmodels.api as sm\n",
    "from scipy import stats\n",
    "\n",
    "X_train = X_train.reset_index(drop=True)\n",
    "y_train = y_train.reset_index(drop=True)\n",
    "\n",
    "X_train = sm.add_constant(X_train)\n",
    "ols_model = sm.OLS(y_train, X_train) \n",
    "\n",
    "# fit the model \n",
    "ols_results = ols_model.fit() \n",
    "\n",
    "# print the summary of the model \n",
    "print(ols_results.summary())"
   ]
  },
  {
   "cell_type": "code",
   "execution_count": 28,
   "id": "79083ffc",
   "metadata": {},
   "outputs": [
    {
     "name": "stdout",
     "output_type": "stream",
     "text": [
      "                            OLS Regression Results                            \n",
      "==============================================================================\n",
      "Dep. Variable:             log_Stream   R-squared:                       0.261\n",
      "Model:                            OLS   Adj. R-squared:                  0.260\n",
      "Method:                 Least Squares   F-statistic:                     358.6\n",
      "Date:                Thu, 27 Apr 2023   Prob (F-statistic):               0.00\n",
      "Time:                        10:54:08   Log-Likelihood:                -22091.\n",
      "No. Observations:               13209   AIC:                         4.421e+04\n",
      "Df Residuals:                   13195   BIC:                         4.431e+04\n",
      "Df Model:                          13                                         \n",
      "Covariance Type:            nonrobust                                         \n",
      "====================================================================================\n",
      "                       coef    std err          t      P>|t|      [0.025      0.975]\n",
      "------------------------------------------------------------------------------------\n",
      "const               17.7364      0.011   1580.779      0.000      17.714      17.758\n",
      "Loudness             0.1289      0.016      8.116      0.000       0.098       0.160\n",
      "Speechiness         -0.0489      0.011     -4.301      0.000      -0.071      -0.027\n",
      "Instrumentalness    -0.0962      0.014     -7.085      0.000      -0.123      -0.070\n",
      "Liveness            -0.0710      0.011     -6.379      0.000      -0.093      -0.049\n",
      "Valence             -0.0742      0.012     -6.185      0.000      -0.098      -0.051\n",
      "Duration_ms         -0.0197      0.010     -1.908      0.056      -0.040       0.001\n",
      "Likes                0.9613      0.033     29.094      0.000       0.897       1.026\n",
      "Licensed             0.0327      0.011      2.857      0.004       0.010       0.055\n",
      "Views               -0.1305      0.027     -4.817      0.000      -0.184      -0.077\n",
      "Comments            -0.4172      0.024    -17.744      0.000      -0.463      -0.371\n",
      "Acousticness        -0.0809      0.014     -5.990      0.000      -0.107      -0.054\n",
      "Single              -0.2933      0.012    -25.461      0.000      -0.316      -0.271\n",
      "Compilation         -0.0366      0.011     -3.230      0.001      -0.059      -0.014\n",
      "==============================================================================\n",
      "Omnibus:                      766.095   Durbin-Watson:                   1.990\n",
      "Prob(Omnibus):                  0.000   Jarque-Bera (JB):             1149.751\n",
      "Skew:                          -0.500   Prob(JB):                    2.16e-250\n",
      "Kurtosis:                       4.043   Cond. No.                         6.09\n",
      "==============================================================================\n",
      "\n",
      "Notes:\n",
      "[1] Standard Errors assume that the covariance matrix of the errors is correctly specified.\n"
     ]
    }
   ],
   "source": [
    "#P-values for modified linear Regression\n",
    "import statsmodels.api as sm\n",
    "from scipy import stats\n",
    "X_train = X_train.drop(columns = ['Key', 'Tempo'])\n",
    "\n",
    "X_train = X_train.reset_index(drop=True)\n",
    "y_train = y_train.reset_index(drop=True)\n",
    "\n",
    "X_train = sm.add_constant(X_train)\n",
    "ols_model = sm.OLS(y_train, X_train) \n",
    "\n",
    "# fit the model \n",
    "ols_results = ols_model.fit() \n",
    "\n",
    "# print the summary of the model \n",
    "print(ols_results.summary())\n"
   ]
  },
  {
   "cell_type": "code",
   "execution_count": 29,
   "id": "56c03c1d",
   "metadata": {},
   "outputs": [
    {
     "data": {
      "text/plain": [
       "((5662,),\n",
       " 6612     17.560478\n",
       " 18831    17.081898\n",
       " 11300    17.212736\n",
       " 14933    17.857588\n",
       " 13150    17.870887\n",
       "            ...    \n",
       " 15128    16.970663\n",
       " 6492     17.807287\n",
       " 6804     17.454420\n",
       " 2385     17.250035\n",
       " 1667     17.610462\n",
       " Length: 5662, dtype: float64)"
      ]
     },
     "execution_count": 29,
     "metadata": {},
     "output_type": "execute_result"
    }
   ],
   "source": [
    "#Prediction values\n",
    "X_test = X_test.drop(columns = ['Key' , 'Tempo'])\n",
    "X_test = sm.add_constant(X_test)\n",
    "y_pred_train = ols_results.predict(X_train)\n",
    "y_pred_test = ols_results.predict(X_test)\n",
    "y_pred_test.shape, y_pred_test"
   ]
  },
  {
   "cell_type": "code",
   "execution_count": 30,
   "id": "b017c002",
   "metadata": {},
   "outputs": [
    {
     "data": {
      "text/plain": [
       "1.0557462907320148"
      ]
     },
     "execution_count": 30,
     "metadata": {},
     "output_type": "execute_result"
    }
   ],
   "source": [
    "# Evaluation MAE for testing data\n",
    "from sklearn.metrics import mean_absolute_error\n",
    "mean_absolute_error(y_test, y_pred_test)"
   ]
  },
  {
   "cell_type": "code",
   "execution_count": 31,
   "id": "3939d533",
   "metadata": {},
   "outputs": [
    {
     "data": {
      "text/plain": [
       "(0.26104663144756723, 0.22344656655932738)"
      ]
     },
     "execution_count": 31,
     "metadata": {},
     "output_type": "execute_result"
    }
   ],
   "source": [
    "# R^2 value for training & testing data\n",
    "from sklearn.metrics import r2_score\n",
    "r2_score(y_train, y_pred_train), r2_score(y_test, y_pred_test)"
   ]
  },
  {
   "cell_type": "code",
   "execution_count": 32,
   "id": "f29ff133",
   "metadata": {},
   "outputs": [
    {
     "data": {
      "text/plain": [
       "array([17.56051181, 17.08197361, 17.21279   , ..., 17.45441093,\n",
       "       17.2501313 , 17.61053559])"
      ]
     },
     "execution_count": 32,
     "metadata": {},
     "output_type": "execute_result"
    }
   ],
   "source": [
    "# Ridge Regression Model\n",
    "from sklearn.linear_model import Ridge\n",
    "\n",
    "ridge_reg = Ridge(alpha=1)\n",
    "ridge_reg.fit(X_train, y_train)\n",
    "\n",
    "y_pred_test_ridge = ridge_reg.predict(X_test)\n",
    "\n",
    "y_pred_test_ridge"
   ]
  },
  {
   "cell_type": "code",
   "execution_count": 33,
   "id": "4a1db0b4",
   "metadata": {},
   "outputs": [
    {
     "data": {
      "text/plain": [
       "({'alpha': 1e-05},\n",
       " 0.25734491173167146,\n",
       " {'mean_fit_time': array([0.01040988, 0.00880251, 0.01040411, 0.00899248, 0.00900559,\n",
       "         0.01060677]),\n",
       "  'std_fit_time': array([0.00241482, 0.0003932 , 0.00049464, 0.00063923, 0.00089053,\n",
       "         0.0018607 ]),\n",
       "  'mean_score_time': array([0.00319815, 0.00259223, 0.00339293, 0.00282145, 0.00322976,\n",
       "         0.00299611]),\n",
       "  'std_score_time': array([3.94228275e-04, 4.89544227e-04, 7.94016702e-04, 4.11284115e-04,\n",
       "         3.88498889e-04, 5.09703013e-06]),\n",
       "  'param_alpha': masked_array(data=[1e-05, 0.0001, 0.001, 0.01, 1, 10],\n",
       "               mask=[False, False, False, False, False, False],\n",
       "         fill_value='?',\n",
       "              dtype=object),\n",
       "  'params': [{'alpha': 1e-05},\n",
       "   {'alpha': 0.0001},\n",
       "   {'alpha': 0.001},\n",
       "   {'alpha': 0.01},\n",
       "   {'alpha': 1},\n",
       "   {'alpha': 10}],\n",
       "  'split0_test_score': array([0.26273204, 0.26273204, 0.26273204, 0.26273203, 0.26273087,\n",
       "         0.26271696]),\n",
       "  'split1_test_score': array([0.27035334, 0.27035334, 0.27035334, 0.27035336, 0.27035534,\n",
       "         0.2703686 ]),\n",
       "  'split2_test_score': array([0.22141807, 0.22141807, 0.22141805, 0.22141788, 0.22139848,\n",
       "         0.22121751]),\n",
       "  'split3_test_score': array([0.27154254, 0.27154254, 0.27154252, 0.2715423 , 0.271518  ,\n",
       "         0.27129587]),\n",
       "  'split4_test_score': array([0.26067857, 0.26067857, 0.2606786 , 0.26067892, 0.26071358,\n",
       "         0.26101824]),\n",
       "  'mean_test_score': array([0.25734491, 0.25734491, 0.25734491, 0.2573449 , 0.25734326,\n",
       "         0.25732344]),\n",
       "  'std_test_score': array([0.01844811, 0.01844811, 0.01844812, 0.01844817, 0.01845346,\n",
       "         0.01850289]),\n",
       "  'rank_test_score': array([1, 2, 3, 4, 5, 6])})"
      ]
     },
     "execution_count": 33,
     "metadata": {},
     "output_type": "execute_result"
    }
   ],
   "source": [
    "from sklearn.model_selection import GridSearchCV\n",
    "param_ridge = {'alpha': [0.00001, 0.0001, 0.001, 0.01, 1, 10]}\n",
    "\n",
    "# Define function and fit the data\n",
    "grid_ridge = Ridge()\n",
    "grid_ridge_est = GridSearchCV(grid_ridge, param_ridge, cv=5)\n",
    "\n",
    "grid_ridge_est.fit(X_train, y_train)\n",
    "\n",
    "# Present performance measure, find best hyperparameters, and find best parameter estimates\n",
    "grid_ridge_est.best_params_, grid_ridge_est.best_score_, grid_ridge_est.cv_results_"
   ]
  },
  {
   "cell_type": "code",
   "execution_count": 34,
   "id": "58d78023",
   "metadata": {},
   "outputs": [
    {
     "data": {
      "text/plain": [
       "(0.2610466314475671, 0.22344656737900526)"
      ]
     },
     "execution_count": 34,
     "metadata": {},
     "output_type": "execute_result"
    }
   ],
   "source": [
    "grid_ridge_est.score(X_train, y_train), grid_ridge_est.score(X_test, y_test) #R^2 value for testing data"
   ]
  },
  {
   "cell_type": "code",
   "execution_count": 35,
   "id": "95e9b37c",
   "metadata": {},
   "outputs": [
    {
     "data": {
      "text/plain": [
       "0.43100294376256676"
      ]
     },
     "execution_count": 35,
     "metadata": {},
     "output_type": "execute_result"
    }
   ],
   "source": [
    "# Decision Tree Model\n",
    "from sklearn.tree import DecisionTreeRegressor\n",
    "X_train1, X_test1, y_train1, y_test1 = train_test_split(X, y, test_size=0.3, random_state=0)\n",
    "regr_dt = DecisionTreeRegressor(max_depth=4)\n",
    "regr_dt.fit(X_train1, y_train1)\n",
    "y_pred_dt = regr_dt.predict(X_test1)\n",
    "r2_score(y_test1, y_pred_dt)"
   ]
  },
  {
   "cell_type": "code",
   "execution_count": 36,
   "id": "1b12268c",
   "metadata": {},
   "outputs": [
    {
     "data": {
      "text/plain": [
       "[Text(697.5, 978.48, 'Likes <= 292082.5\\nmse = 2.247\\nsamples = 13209\\nvalue = 17.732'),\n",
       " Text(348.75, 761.0400000000001, 'Views <= 5241117.0\\nmse = 1.658\\nsamples = 8445\\nvalue = 17.128'),\n",
       " Text(174.375, 543.6, 'Single <= 0.5\\nmse = 1.878\\nsamples = 4464\\nvalue = 16.758'),\n",
       " Text(87.1875, 326.1600000000001, 'Licensed <= 0.5\\nmse = 1.727\\nsamples = 3264\\nvalue = 16.943'),\n",
       " Text(43.59375, 108.72000000000003, 'mse = 1.817\\nsamples = 1600\\nvalue = 17.191'),\n",
       " Text(130.78125, 108.72000000000003, 'mse = 1.525\\nsamples = 1664\\nvalue = 16.704'),\n",
       " Text(261.5625, 326.1600000000001, 'Views <= 518189.0\\nmse = 1.94\\nsamples = 1200\\nvalue = 16.255'),\n",
       " Text(217.96875, 108.72000000000003, 'mse = 2.027\\nsamples = 447\\nvalue = 15.888'),\n",
       " Text(305.15625, 108.72000000000003, 'mse = 1.761\\nsamples = 753\\nvalue = 16.474'),\n",
       " Text(523.125, 543.6, 'Likes <= 115284.0\\nmse = 1.087\\nsamples = 3981\\nvalue = 17.542'),\n",
       " Text(435.9375, 326.1600000000001, 'Single <= 0.5\\nmse = 1.044\\nsamples = 1798\\nvalue = 17.288'),\n",
       " Text(392.34375, 108.72000000000003, 'mse = 0.924\\nsamples = 1542\\nvalue = 17.371'),\n",
       " Text(479.53125, 108.72000000000003, 'mse = 1.478\\nsamples = 256\\nvalue = 16.79'),\n",
       " Text(610.3125, 326.1600000000001, 'Single <= 0.5\\nmse = 1.026\\nsamples = 2183\\nvalue = 17.751'),\n",
       " Text(566.71875, 108.72000000000003, 'mse = 0.888\\nsamples = 1707\\nvalue = 17.848'),\n",
       " Text(653.90625, 108.72000000000003, 'mse = 1.37\\nsamples = 476\\nvalue = 17.405'),\n",
       " Text(1046.25, 761.0400000000001, 'Likes <= 1708024.0\\nmse = 1.494\\nsamples = 4764\\nvalue = 18.804'),\n",
       " Text(871.875, 543.6, 'Likes <= 773763.5\\nmse = 1.194\\nsamples = 3449\\nvalue = 18.493'),\n",
       " Text(784.6875, 326.1600000000001, 'Single <= 0.5\\nmse = 1.052\\nsamples = 2186\\nvalue = 18.279'),\n",
       " Text(741.09375, 108.72000000000003, 'mse = 0.929\\nsamples = 1652\\nvalue = 18.423'),\n",
       " Text(828.28125, 108.72000000000003, 'mse = 1.17\\nsamples = 534\\nvalue = 17.833'),\n",
       " Text(959.0625, 326.1600000000001, 'Acousticness <= 0.209\\nmse = 1.224\\nsamples = 1263\\nvalue = 18.863'),\n",
       " Text(915.46875, 108.72000000000003, 'mse = 1.101\\nsamples = 700\\nvalue = 19.091'),\n",
       " Text(1002.65625, 108.72000000000003, 'mse = 1.232\\nsamples = 563\\nvalue = 18.579'),\n",
       " Text(1220.625, 543.6, 'Likes <= 6613157.5\\nmse = 1.361\\nsamples = 1315\\nvalue = 19.619'),\n",
       " Text(1133.4375, 326.1600000000001, 'Single <= 0.5\\nmse = 1.255\\nsamples = 1105\\nvalue = 19.437'),\n",
       " Text(1089.84375, 108.72000000000003, 'mse = 1.109\\nsamples = 789\\nvalue = 19.639'),\n",
       " Text(1177.03125, 108.72000000000003, 'mse = 1.263\\nsamples = 316\\nvalue = 18.933'),\n",
       " Text(1307.8125, 326.1600000000001, 'Single <= 0.5\\nmse = 0.828\\nsamples = 210\\nvalue = 20.576'),\n",
       " Text(1264.21875, 108.72000000000003, 'mse = 0.686\\nsamples = 167\\nvalue = 20.717'),\n",
       " Text(1351.40625, 108.72000000000003, 'mse = 1.006\\nsamples = 43\\nvalue = 20.031')]"
      ]
     },
     "execution_count": 36,
     "metadata": {},
     "output_type": "execute_result"
    },
    {
     "data": {
      "image/png": "[encoded data removed]",
      "text/plain": [
       "<Figure size 1800x1440 with 1 Axes>"
      ]
     },
     "metadata": {
      "needs_background": "light"
     },
     "output_type": "display_data"
    }
   ],
   "source": [
    "# Plot Decision Tree Model with maxdepth = 4\n",
    "from sklearn import tree\n",
    "fig = plt.figure(figsize=(25,20))\n",
    "tree.plot_tree(regr_dt, filled=True, feature_names = list(X.columns))"
   ]
  },
  {
   "cell_type": "code",
   "execution_count": 37,
   "id": "96b9b80d",
   "metadata": {
    "scrolled": true
   },
   "outputs": [
    {
     "data": {
      "text/plain": [
       "({'max_depth': 6},\n",
       " 0.43850700368731677,\n",
       " {'mean_fit_time': array([0.04440174, 0.0725924 , 0.10021176, 0.13080683, 0.1456152 ,\n",
       "         0.1878088 ]),\n",
       "  'std_fit_time': array([0.00734496, 0.00539266, 0.00555989, 0.00555722, 0.00653691,\n",
       "         0.00684893]),\n",
       "  'mean_score_time': array([0.00300255, 0.00361376, 0.00399976, 0.00399947, 0.00379624,\n",
       "         0.00440135]),\n",
       "  'std_score_time': array([2.08176422e-06, 4.91670477e-04, 6.28768611e-04, 6.29960414e-04,\n",
       "         3.98985057e-04, 4.96463756e-04]),\n",
       "  'param_max_depth': masked_array(data=[2, 4, 6, 8, 10, 12],\n",
       "               mask=[False, False, False, False, False, False],\n",
       "         fill_value='?',\n",
       "              dtype=object),\n",
       "  'params': [{'max_depth': 2},\n",
       "   {'max_depth': 4},\n",
       "   {'max_depth': 6},\n",
       "   {'max_depth': 8},\n",
       "   {'max_depth': 10},\n",
       "   {'max_depth': 12}],\n",
       "  'split0_test_score': array([0.36115513, 0.40582691, 0.42435572, 0.40368698, 0.34896442,\n",
       "         0.27872926]),\n",
       "  'split1_test_score': array([0.36172212, 0.42357003, 0.43159477, 0.419471  , 0.34605465,\n",
       "         0.24955734]),\n",
       "  'split2_test_score': array([0.35774865, 0.41253828, 0.42568233, 0.40887146, 0.33574251,\n",
       "         0.22675619]),\n",
       "  'split3_test_score': array([0.3879848 , 0.44737173, 0.46753402, 0.4339553 , 0.38124873,\n",
       "         0.28874434]),\n",
       "  'split4_test_score': array([0.37228468, 0.4244943 , 0.44336818, 0.42602029, 0.34694998,\n",
       "         0.27116933]),\n",
       "  'mean_test_score': array([0.36817908, 0.42276025, 0.438507  , 0.41840101, 0.35179206,\n",
       "         0.26299129]),\n",
       "  'std_test_score': array([0.0110358 , 0.01414648, 0.01599193, 0.01103131, 0.01542493,\n",
       "         0.02223168]),\n",
       "  'rank_test_score': array([4, 2, 1, 3, 5, 6])})"
      ]
     },
     "execution_count": 37,
     "metadata": {},
     "output_type": "execute_result"
    }
   ],
   "source": [
    "# Decision Tree Evaluation\n",
    "param_dt = {'max_depth': [2,4,6,8,10,12]}\n",
    "\n",
    "# Define function and fit the data\n",
    "grid_dt = DecisionTreeRegressor()\n",
    "grid_dt_est = GridSearchCV(grid_dt, param_dt, cv=5)\n",
    "\n",
    "grid_dt_est.fit(X_train1, y_train1)\n",
    "\n",
    "# Present performance measure, find best hyperparameters, and find best parameter estimates\n",
    "grid_dt_est.best_params_, grid_dt_est.best_score_, grid_dt_est.cv_results_"
   ]
  },
  {
   "cell_type": "code",
   "execution_count": 38,
   "id": "ab52e3c5",
   "metadata": {},
   "outputs": [
    {
     "data": {
      "text/plain": [
       "(0.7682910092241217, 0.521697378547513)"
      ]
     },
     "execution_count": 38,
     "metadata": {},
     "output_type": "execute_result"
    }
   ],
   "source": [
    "# Random Forest Model\n",
    "\n",
    "from sklearn.ensemble import RandomForestRegressor\n",
    "regr_rf = RandomForestRegressor(max_depth=12, random_state=0)\n",
    "regr_rf.fit(X_train1, y_train1)\n",
    "y_pred_train_rf = regr_rf.predict(X_train1)\n",
    "y_pred_rf = regr_rf.predict(X_test1)\n",
    "r2_score(y_train1, y_pred_train_rf), r2_score(y_test1, y_pred_rf)"
   ]
  },
  {
   "cell_type": "code",
   "execution_count": 39,
   "id": "84147e10",
   "metadata": {},
   "outputs": [
    {
     "data": {
      "text/plain": [
       "({'max_depth': 14},\n",
       " 0.5166219383590988,\n",
       " {'mean_fit_time': array([ 2.40469241,  4.53426385,  5.71409745,  7.37851214,  8.59874024,\n",
       "          9.84736695, 11.05689025]),\n",
       "  'std_fit_time': array([0.09268195, 0.40391644, 0.08686234, 0.17988008, 0.12810513,\n",
       "         0.14404344, 0.2741194 ]),\n",
       "  'mean_score_time': array([0.02340121, 0.02800541, 0.03400764, 0.04340386, 0.05220575,\n",
       "         0.06501002, 0.07760758]),\n",
       "  'std_score_time': array([0.00432133, 0.00063234, 0.00141107, 0.00387896, 0.00116774,\n",
       "         0.0015467 , 0.00079999]),\n",
       "  'param_max_depth': masked_array(data=[2, 4, 6, 8, 10, 12, 14],\n",
       "               mask=[False, False, False, False, False, False, False],\n",
       "         fill_value='?',\n",
       "              dtype=object),\n",
       "  'params': [{'max_depth': 2},\n",
       "   {'max_depth': 4},\n",
       "   {'max_depth': 6},\n",
       "   {'max_depth': 8},\n",
       "   {'max_depth': 10},\n",
       "   {'max_depth': 12},\n",
       "   {'max_depth': 14}],\n",
       "  'split0_test_score': array([0.37647203, 0.42878887, 0.46805956, 0.48559481, 0.49496092,\n",
       "         0.50103836, 0.50370268]),\n",
       "  'split1_test_score': array([0.38029624, 0.44564161, 0.48075092, 0.50435597, 0.51707163,\n",
       "         0.52624349, 0.52874575]),\n",
       "  'split2_test_score': array([0.36978624, 0.43529256, 0.47126865, 0.48984656, 0.49847472,\n",
       "         0.5042359 , 0.50828076]),\n",
       "  'split3_test_score': array([0.40411337, 0.46212521, 0.49742596, 0.51254832, 0.52095337,\n",
       "         0.52399727, 0.52477932]),\n",
       "  'split4_test_score': array([0.38590133, 0.44543308, 0.47995541, 0.49848494, 0.50796131,\n",
       "         0.51458028, 0.51760118]),\n",
       "  'mean_test_score': array([0.38331384, 0.44345627, 0.4794921 , 0.49816612, 0.50788439,\n",
       "         0.51401906, 0.51662194]),\n",
       "  'std_test_score': array([0.0116467 , 0.01130479, 0.01021519, 0.00972128, 0.0101071 ,\n",
       "         0.01013435, 0.00949706]),\n",
       "  'rank_test_score': array([7, 6, 5, 4, 3, 2, 1])})"
      ]
     },
     "execution_count": 39,
     "metadata": {},
     "output_type": "execute_result"
    }
   ],
   "source": [
    "# Random Forest Model Evaluation\n",
    "param_rf = {'max_depth': [2,4,6,8,10,12,14]} \n",
    "\n",
    "# Define function and fit the data\n",
    "grid_rf = RandomForestRegressor(random_state=0)\n",
    "grid_rf_est = GridSearchCV(grid_rf, param_rf, cv=5)\n",
    "\n",
    "grid_rf_est.fit(X_train1, y_train1)\n",
    "\n",
    "# Present performance measure, find best hyperparameters, and find best parameter estimates\n",
    "grid_rf_est.best_params_, grid_rf_est.best_score_, grid_rf_est.cv_results_\n",
    "\n",
    "# max depth of 14 is the best model"
   ]
  },
  {
   "cell_type": "code",
   "execution_count": null,
   "id": "3b14332c",
   "metadata": {},
   "outputs": [],
   "source": []
  }
 ],
 "metadata": {
  "kernelspec": {
   "display_name": "Python 3 (ipykernel)",
   "language": "python",
   "name": "python3"
  },
  "language_info": {
   "codemirror_mode": {
    "name": "ipython",
    "version": 3
   },
   "file_extension": ".py",
   "mimetype": "text/x-python",
   "name": "python",
   "nbconvert_exporter": "python",
   "pygments_lexer": "ipython3",
   "version": "3.9.7"
  }
 },
 "nbformat": 4,
 "nbformat_minor": 5
}
